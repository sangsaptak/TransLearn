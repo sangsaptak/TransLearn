{
  "nbformat": 4,
  "nbformat_minor": 0,
  "metadata": {
    "kernelspec": {
      "display_name": "Python 3",
      "language": "python",
      "name": "python3"
    },
    "language_info": {
      "codemirror_mode": {
        "name": "ipython",
        "version": 3
      },
      "file_extension": ".py",
      "mimetype": "text/x-python",
      "name": "python",
      "nbconvert_exporter": "python",
      "pygments_lexer": "ipython3",
      "version": "3.7.7"
    },
    "colab": {
      "name": "Face Recognition using Mobilenet.ipynb",
      "provenance": [],
      "toc_visible": true
    }
  },
  "cells": [
    {
      "cell_type": "markdown",
      "metadata": {
        "id": "iB4HTPb1JTjY",
        "colab_type": "text"
      },
      "source": [
        "# Using MobileNet for our Monkey Classifer\n",
        "\n",
        "### Loading the MobileNet Model"
      ]
    },
    {
      "cell_type": "markdown",
      "metadata": {
        "id": "NSAs4TWLJTjb",
        "colab_type": "text"
      },
      "source": [
        "Freeze all layers except the top 4, as we'll only be training the top 4"
      ]
    },
    {
      "cell_type": "code",
      "metadata": {
        "id": "H1CCuKMUJTjd",
        "colab_type": "code",
        "outputId": "9449ee82-fc81-4ca1-e395-f3db3472807b",
        "colab": {
          "base_uri": "https://localhost:8080/",
          "height": 1000
        }
      },
      "source": [
        "from keras.applications import MobileNet\n",
        "\n",
        "# MobileNet is designed to work on 224 x 224 pixel input images sizes\n",
        "img_rows, img_cols = 224, 224 \n",
        "\n",
        "# Re-loads the MobileNet model without the top or FC layers\n",
        "MobileNet = MobileNet(weights = 'imagenet', include_top = False, input_shape = (img_rows, img_cols, 3))\n",
        "\n",
        "# Here we freeze the last 4 layers \n",
        "# Layers are set to trainable as True by default\n",
        "for layer in MobileNet.layers:\n",
        "    layer.trainable = False\n",
        "    \n",
        "# Let's print our layers \n",
        "for (i,layer) in enumerate(MobileNet.layers):\n",
        "    print(str(i) + \" \"+ layer.__class__.__name__, layer.trainable)"
      ],
      "execution_count": 1,
      "outputs": [
        {
          "output_type": "stream",
          "text": [
            "Using TensorFlow backend.\n"
          ],
          "name": "stderr"
        },
        {
          "output_type": "stream",
          "text": [
            "Downloading data from https://github.com/fchollet/deep-learning-models/releases/download/v0.6/mobilenet_1_0_224_tf_no_top.h5\n",
            "17227776/17225924 [==============================] - 0s 0us/step\n",
            "0 InputLayer False\n",
            "1 ZeroPadding2D False\n",
            "2 Conv2D False\n",
            "3 BatchNormalization False\n",
            "4 ReLU False\n",
            "5 DepthwiseConv2D False\n",
            "6 BatchNormalization False\n",
            "7 ReLU False\n",
            "8 Conv2D False\n",
            "9 BatchNormalization False\n",
            "10 ReLU False\n",
            "11 ZeroPadding2D False\n",
            "12 DepthwiseConv2D False\n",
            "13 BatchNormalization False\n",
            "14 ReLU False\n",
            "15 Conv2D False\n",
            "16 BatchNormalization False\n",
            "17 ReLU False\n",
            "18 DepthwiseConv2D False\n",
            "19 BatchNormalization False\n",
            "20 ReLU False\n",
            "21 Conv2D False\n",
            "22 BatchNormalization False\n",
            "23 ReLU False\n",
            "24 ZeroPadding2D False\n",
            "25 DepthwiseConv2D False\n",
            "26 BatchNormalization False\n",
            "27 ReLU False\n",
            "28 Conv2D False\n",
            "29 BatchNormalization False\n",
            "30 ReLU False\n",
            "31 DepthwiseConv2D False\n",
            "32 BatchNormalization False\n",
            "33 ReLU False\n",
            "34 Conv2D False\n",
            "35 BatchNormalization False\n",
            "36 ReLU False\n",
            "37 ZeroPadding2D False\n",
            "38 DepthwiseConv2D False\n",
            "39 BatchNormalization False\n",
            "40 ReLU False\n",
            "41 Conv2D False\n",
            "42 BatchNormalization False\n",
            "43 ReLU False\n",
            "44 DepthwiseConv2D False\n",
            "45 BatchNormalization False\n",
            "46 ReLU False\n",
            "47 Conv2D False\n",
            "48 BatchNormalization False\n",
            "49 ReLU False\n",
            "50 DepthwiseConv2D False\n",
            "51 BatchNormalization False\n",
            "52 ReLU False\n",
            "53 Conv2D False\n",
            "54 BatchNormalization False\n",
            "55 ReLU False\n",
            "56 DepthwiseConv2D False\n",
            "57 BatchNormalization False\n",
            "58 ReLU False\n",
            "59 Conv2D False\n",
            "60 BatchNormalization False\n",
            "61 ReLU False\n",
            "62 DepthwiseConv2D False\n",
            "63 BatchNormalization False\n",
            "64 ReLU False\n",
            "65 Conv2D False\n",
            "66 BatchNormalization False\n",
            "67 ReLU False\n",
            "68 DepthwiseConv2D False\n",
            "69 BatchNormalization False\n",
            "70 ReLU False\n",
            "71 Conv2D False\n",
            "72 BatchNormalization False\n",
            "73 ReLU False\n",
            "74 ZeroPadding2D False\n",
            "75 DepthwiseConv2D False\n",
            "76 BatchNormalization False\n",
            "77 ReLU False\n",
            "78 Conv2D False\n",
            "79 BatchNormalization False\n",
            "80 ReLU False\n",
            "81 DepthwiseConv2D False\n",
            "82 BatchNormalization False\n",
            "83 ReLU False\n",
            "84 Conv2D False\n",
            "85 BatchNormalization False\n",
            "86 ReLU False\n"
          ],
          "name": "stdout"
        }
      ]
    },
    {
      "cell_type": "markdown",
      "metadata": {
        "id": "kDK567L_JTjo",
        "colab_type": "text"
      },
      "source": [
        "### A function that returns the FC Head"
      ]
    },
    {
      "cell_type": "code",
      "metadata": {
        "id": "RfqFx3D7JTjp",
        "colab_type": "code",
        "colab": {}
      },
      "source": [
        "def weling(bottom_model, num_classes):\n",
        "    \"\"\"creates the top or head of the model that will be \n",
        "    placed ontop of the bottom layers\"\"\"\n",
        "\n",
        "    top_model = bottom_model.output\n",
        "    top_model = GlobalAveragePooling2D()(top_model)\n",
        "    top_model = Dense(1024,activation='relu')(top_model)\n",
        "    top_model = Dense(1024,activation='relu')(top_model)\n",
        "    top_model = Dense(512,activation='relu')(top_model)\n",
        "    top_model = Dense(num_classes,activation='softmax')(top_model)\n",
        "    return top_model"
      ],
      "execution_count": 0,
      "outputs": []
    },
    {
      "cell_type": "markdown",
      "metadata": {
        "id": "xwtMRunzJTjx",
        "colab_type": "text"
      },
      "source": [
        "### Add the FC Head back onto MobileNet"
      ]
    },
    {
      "cell_type": "code",
      "metadata": {
        "scrolled": true,
        "id": "F3lciPVMJTjy",
        "colab_type": "code",
        "outputId": "14b187f8-8ffe-474e-9907-7bf24496b819",
        "colab": {
          "base_uri": "https://localhost:8080/",
          "height": 1000
        }
      },
      "source": [
        "from keras.models import Sequential\n",
        "from keras.layers import Dense, Dropout, Activation, Flatten, GlobalAveragePooling2D\n",
        "from keras.layers import Conv2D, MaxPooling2D, ZeroPadding2D\n",
        "from keras.layers.normalization import BatchNormalization\n",
        "from keras.models import Model\n",
        "\n",
        "# Set our class number to 3 (Young, Middle, Old)\n",
        "num_classes = 2\n",
        "\n",
        "FC_Head = weling(MobileNet, num_classes)\n",
        "\n",
        "model = Model(inputs = MobileNet.input, outputs = FC_Head)\n",
        "\n",
        "print(model.summary())"
      ],
      "execution_count": 3,
      "outputs": [
        {
          "output_type": "stream",
          "text": [
            "Model: \"model_1\"\n",
            "_________________________________________________________________\n",
            "Layer (type)                 Output Shape              Param #   \n",
            "=================================================================\n",
            "input_1 (InputLayer)         (None, 224, 224, 3)       0         \n",
            "_________________________________________________________________\n",
            "conv1_pad (ZeroPadding2D)    (None, 225, 225, 3)       0         \n",
            "_________________________________________________________________\n",
            "conv1 (Conv2D)               (None, 112, 112, 32)      864       \n",
            "_________________________________________________________________\n",
            "conv1_bn (BatchNormalization (None, 112, 112, 32)      128       \n",
            "_________________________________________________________________\n",
            "conv1_relu (ReLU)            (None, 112, 112, 32)      0         \n",
            "_________________________________________________________________\n",
            "conv_dw_1 (DepthwiseConv2D)  (None, 112, 112, 32)      288       \n",
            "_________________________________________________________________\n",
            "conv_dw_1_bn (BatchNormaliza (None, 112, 112, 32)      128       \n",
            "_________________________________________________________________\n",
            "conv_dw_1_relu (ReLU)        (None, 112, 112, 32)      0         \n",
            "_________________________________________________________________\n",
            "conv_pw_1 (Conv2D)           (None, 112, 112, 64)      2048      \n",
            "_________________________________________________________________\n",
            "conv_pw_1_bn (BatchNormaliza (None, 112, 112, 64)      256       \n",
            "_________________________________________________________________\n",
            "conv_pw_1_relu (ReLU)        (None, 112, 112, 64)      0         \n",
            "_________________________________________________________________\n",
            "conv_pad_2 (ZeroPadding2D)   (None, 113, 113, 64)      0         \n",
            "_________________________________________________________________\n",
            "conv_dw_2 (DepthwiseConv2D)  (None, 56, 56, 64)        576       \n",
            "_________________________________________________________________\n",
            "conv_dw_2_bn (BatchNormaliza (None, 56, 56, 64)        256       \n",
            "_________________________________________________________________\n",
            "conv_dw_2_relu (ReLU)        (None, 56, 56, 64)        0         \n",
            "_________________________________________________________________\n",
            "conv_pw_2 (Conv2D)           (None, 56, 56, 128)       8192      \n",
            "_________________________________________________________________\n",
            "conv_pw_2_bn (BatchNormaliza (None, 56, 56, 128)       512       \n",
            "_________________________________________________________________\n",
            "conv_pw_2_relu (ReLU)        (None, 56, 56, 128)       0         \n",
            "_________________________________________________________________\n",
            "conv_dw_3 (DepthwiseConv2D)  (None, 56, 56, 128)       1152      \n",
            "_________________________________________________________________\n",
            "conv_dw_3_bn (BatchNormaliza (None, 56, 56, 128)       512       \n",
            "_________________________________________________________________\n",
            "conv_dw_3_relu (ReLU)        (None, 56, 56, 128)       0         \n",
            "_________________________________________________________________\n",
            "conv_pw_3 (Conv2D)           (None, 56, 56, 128)       16384     \n",
            "_________________________________________________________________\n",
            "conv_pw_3_bn (BatchNormaliza (None, 56, 56, 128)       512       \n",
            "_________________________________________________________________\n",
            "conv_pw_3_relu (ReLU)        (None, 56, 56, 128)       0         \n",
            "_________________________________________________________________\n",
            "conv_pad_4 (ZeroPadding2D)   (None, 57, 57, 128)       0         \n",
            "_________________________________________________________________\n",
            "conv_dw_4 (DepthwiseConv2D)  (None, 28, 28, 128)       1152      \n",
            "_________________________________________________________________\n",
            "conv_dw_4_bn (BatchNormaliza (None, 28, 28, 128)       512       \n",
            "_________________________________________________________________\n",
            "conv_dw_4_relu (ReLU)        (None, 28, 28, 128)       0         \n",
            "_________________________________________________________________\n",
            "conv_pw_4 (Conv2D)           (None, 28, 28, 256)       32768     \n",
            "_________________________________________________________________\n",
            "conv_pw_4_bn (BatchNormaliza (None, 28, 28, 256)       1024      \n",
            "_________________________________________________________________\n",
            "conv_pw_4_relu (ReLU)        (None, 28, 28, 256)       0         \n",
            "_________________________________________________________________\n",
            "conv_dw_5 (DepthwiseConv2D)  (None, 28, 28, 256)       2304      \n",
            "_________________________________________________________________\n",
            "conv_dw_5_bn (BatchNormaliza (None, 28, 28, 256)       1024      \n",
            "_________________________________________________________________\n",
            "conv_dw_5_relu (ReLU)        (None, 28, 28, 256)       0         \n",
            "_________________________________________________________________\n",
            "conv_pw_5 (Conv2D)           (None, 28, 28, 256)       65536     \n",
            "_________________________________________________________________\n",
            "conv_pw_5_bn (BatchNormaliza (None, 28, 28, 256)       1024      \n",
            "_________________________________________________________________\n",
            "conv_pw_5_relu (ReLU)        (None, 28, 28, 256)       0         \n",
            "_________________________________________________________________\n",
            "conv_pad_6 (ZeroPadding2D)   (None, 29, 29, 256)       0         \n",
            "_________________________________________________________________\n",
            "conv_dw_6 (DepthwiseConv2D)  (None, 14, 14, 256)       2304      \n",
            "_________________________________________________________________\n",
            "conv_dw_6_bn (BatchNormaliza (None, 14, 14, 256)       1024      \n",
            "_________________________________________________________________\n",
            "conv_dw_6_relu (ReLU)        (None, 14, 14, 256)       0         \n",
            "_________________________________________________________________\n",
            "conv_pw_6 (Conv2D)           (None, 14, 14, 512)       131072    \n",
            "_________________________________________________________________\n",
            "conv_pw_6_bn (BatchNormaliza (None, 14, 14, 512)       2048      \n",
            "_________________________________________________________________\n",
            "conv_pw_6_relu (ReLU)        (None, 14, 14, 512)       0         \n",
            "_________________________________________________________________\n",
            "conv_dw_7 (DepthwiseConv2D)  (None, 14, 14, 512)       4608      \n",
            "_________________________________________________________________\n",
            "conv_dw_7_bn (BatchNormaliza (None, 14, 14, 512)       2048      \n",
            "_________________________________________________________________\n",
            "conv_dw_7_relu (ReLU)        (None, 14, 14, 512)       0         \n",
            "_________________________________________________________________\n",
            "conv_pw_7 (Conv2D)           (None, 14, 14, 512)       262144    \n",
            "_________________________________________________________________\n",
            "conv_pw_7_bn (BatchNormaliza (None, 14, 14, 512)       2048      \n",
            "_________________________________________________________________\n",
            "conv_pw_7_relu (ReLU)        (None, 14, 14, 512)       0         \n",
            "_________________________________________________________________\n",
            "conv_dw_8 (DepthwiseConv2D)  (None, 14, 14, 512)       4608      \n",
            "_________________________________________________________________\n",
            "conv_dw_8_bn (BatchNormaliza (None, 14, 14, 512)       2048      \n",
            "_________________________________________________________________\n",
            "conv_dw_8_relu (ReLU)        (None, 14, 14, 512)       0         \n",
            "_________________________________________________________________\n",
            "conv_pw_8 (Conv2D)           (None, 14, 14, 512)       262144    \n",
            "_________________________________________________________________\n",
            "conv_pw_8_bn (BatchNormaliza (None, 14, 14, 512)       2048      \n",
            "_________________________________________________________________\n",
            "conv_pw_8_relu (ReLU)        (None, 14, 14, 512)       0         \n",
            "_________________________________________________________________\n",
            "conv_dw_9 (DepthwiseConv2D)  (None, 14, 14, 512)       4608      \n",
            "_________________________________________________________________\n",
            "conv_dw_9_bn (BatchNormaliza (None, 14, 14, 512)       2048      \n",
            "_________________________________________________________________\n",
            "conv_dw_9_relu (ReLU)        (None, 14, 14, 512)       0         \n",
            "_________________________________________________________________\n",
            "conv_pw_9 (Conv2D)           (None, 14, 14, 512)       262144    \n",
            "_________________________________________________________________\n",
            "conv_pw_9_bn (BatchNormaliza (None, 14, 14, 512)       2048      \n",
            "_________________________________________________________________\n",
            "conv_pw_9_relu (ReLU)        (None, 14, 14, 512)       0         \n",
            "_________________________________________________________________\n",
            "conv_dw_10 (DepthwiseConv2D) (None, 14, 14, 512)       4608      \n",
            "_________________________________________________________________\n",
            "conv_dw_10_bn (BatchNormaliz (None, 14, 14, 512)       2048      \n",
            "_________________________________________________________________\n",
            "conv_dw_10_relu (ReLU)       (None, 14, 14, 512)       0         \n",
            "_________________________________________________________________\n",
            "conv_pw_10 (Conv2D)          (None, 14, 14, 512)       262144    \n",
            "_________________________________________________________________\n",
            "conv_pw_10_bn (BatchNormaliz (None, 14, 14, 512)       2048      \n",
            "_________________________________________________________________\n",
            "conv_pw_10_relu (ReLU)       (None, 14, 14, 512)       0         \n",
            "_________________________________________________________________\n",
            "conv_dw_11 (DepthwiseConv2D) (None, 14, 14, 512)       4608      \n",
            "_________________________________________________________________\n",
            "conv_dw_11_bn (BatchNormaliz (None, 14, 14, 512)       2048      \n",
            "_________________________________________________________________\n",
            "conv_dw_11_relu (ReLU)       (None, 14, 14, 512)       0         \n",
            "_________________________________________________________________\n",
            "conv_pw_11 (Conv2D)          (None, 14, 14, 512)       262144    \n",
            "_________________________________________________________________\n",
            "conv_pw_11_bn (BatchNormaliz (None, 14, 14, 512)       2048      \n",
            "_________________________________________________________________\n",
            "conv_pw_11_relu (ReLU)       (None, 14, 14, 512)       0         \n",
            "_________________________________________________________________\n",
            "conv_pad_12 (ZeroPadding2D)  (None, 15, 15, 512)       0         \n",
            "_________________________________________________________________\n",
            "conv_dw_12 (DepthwiseConv2D) (None, 7, 7, 512)         4608      \n",
            "_________________________________________________________________\n",
            "conv_dw_12_bn (BatchNormaliz (None, 7, 7, 512)         2048      \n",
            "_________________________________________________________________\n",
            "conv_dw_12_relu (ReLU)       (None, 7, 7, 512)         0         \n",
            "_________________________________________________________________\n",
            "conv_pw_12 (Conv2D)          (None, 7, 7, 1024)        524288    \n",
            "_________________________________________________________________\n",
            "conv_pw_12_bn (BatchNormaliz (None, 7, 7, 1024)        4096      \n",
            "_________________________________________________________________\n",
            "conv_pw_12_relu (ReLU)       (None, 7, 7, 1024)        0         \n",
            "_________________________________________________________________\n",
            "conv_dw_13 (DepthwiseConv2D) (None, 7, 7, 1024)        9216      \n",
            "_________________________________________________________________\n",
            "conv_dw_13_bn (BatchNormaliz (None, 7, 7, 1024)        4096      \n",
            "_________________________________________________________________\n",
            "conv_dw_13_relu (ReLU)       (None, 7, 7, 1024)        0         \n",
            "_________________________________________________________________\n",
            "conv_pw_13 (Conv2D)          (None, 7, 7, 1024)        1048576   \n",
            "_________________________________________________________________\n",
            "conv_pw_13_bn (BatchNormaliz (None, 7, 7, 1024)        4096      \n",
            "_________________________________________________________________\n",
            "conv_pw_13_relu (ReLU)       (None, 7, 7, 1024)        0         \n",
            "_________________________________________________________________\n",
            "global_average_pooling2d_1 ( (None, 1024)              0         \n",
            "_________________________________________________________________\n",
            "dense_1 (Dense)              (None, 1024)              1049600   \n",
            "_________________________________________________________________\n",
            "dense_2 (Dense)              (None, 1024)              1049600   \n",
            "_________________________________________________________________\n",
            "dense_3 (Dense)              (None, 512)               524800    \n",
            "_________________________________________________________________\n",
            "dense_4 (Dense)              (None, 2)                 1026      \n",
            "=================================================================\n",
            "Total params: 5,853,890\n",
            "Trainable params: 2,625,026\n",
            "Non-trainable params: 3,228,864\n",
            "_________________________________________________________________\n",
            "None\n"
          ],
          "name": "stdout"
        }
      ]
    },
    {
      "cell_type": "markdown",
      "metadata": {
        "id": "iM6kNCV4JTj5",
        "colab_type": "text"
      },
      "source": [
        "### Loading our Dataset"
      ]
    },
    {
      "cell_type": "code",
      "metadata": {
        "id": "yqtomgugh3qE",
        "colab_type": "code",
        "colab": {
          "base_uri": "https://localhost:8080/",
          "height": 1000
        },
        "outputId": "7a9c152f-ddc6-44a3-daee-b697f5fa9086"
      },
      "source": [
        "!unzip /content/face.zip"
      ],
      "execution_count": 4,
      "outputs": [
        {
          "output_type": "stream",
          "text": [
            "Archive:  /content/face.zip\n",
            "   creating: reli/\n",
            "  inflating: reli/1.jpg              \n",
            "  inflating: reli/10.jpg             \n",
            "  inflating: reli/100.jpg            \n",
            "  inflating: reli/11.jpg             \n",
            "  inflating: reli/12.jpg             \n",
            "  inflating: reli/13.jpg             \n",
            "  inflating: reli/14.jpg             \n",
            "  inflating: reli/15.jpg             \n",
            "  inflating: reli/16.jpg             \n",
            "  inflating: reli/17.jpg             \n",
            "  inflating: reli/18.jpg             \n",
            "  inflating: reli/19.jpg             \n",
            "  inflating: reli/2.jpg              \n",
            "  inflating: reli/20.jpg             \n",
            "  inflating: reli/21.jpg             \n",
            "  inflating: reli/22.jpg             \n",
            "  inflating: reli/23.jpg             \n",
            "  inflating: reli/24.jpg             \n",
            "  inflating: reli/25.jpg             \n",
            "  inflating: reli/26.jpg             \n",
            "  inflating: reli/27.jpg             \n",
            "  inflating: reli/28.jpg             \n",
            "  inflating: reli/29.jpg             \n",
            "  inflating: reli/3.jpg              \n",
            "  inflating: reli/30.jpg             \n",
            "  inflating: reli/31.jpg             \n",
            "  inflating: reli/32.jpg             \n",
            "  inflating: reli/33.jpg             \n",
            "  inflating: reli/34.jpg             \n",
            "  inflating: reli/35.jpg             \n",
            "  inflating: reli/36.jpg             \n",
            "  inflating: reli/37.jpg             \n",
            "  inflating: reli/38.jpg             \n",
            "  inflating: reli/39.jpg             \n",
            "  inflating: reli/4.jpg              \n",
            "  inflating: reli/40.jpg             \n",
            "  inflating: reli/41.jpg             \n",
            "  inflating: reli/42.jpg             \n",
            "  inflating: reli/43.jpg             \n",
            "  inflating: reli/44.jpg             \n",
            "  inflating: reli/45.jpg             \n",
            "  inflating: reli/46.jpg             \n",
            "  inflating: reli/47.jpg             \n",
            "  inflating: reli/48.jpg             \n",
            "  inflating: reli/49.jpg             \n",
            "  inflating: reli/5.jpg              \n",
            "  inflating: reli/50.jpg             \n",
            "  inflating: reli/51.jpg             \n",
            "  inflating: reli/52.jpg             \n",
            "  inflating: reli/53.jpg             \n",
            "  inflating: reli/54.jpg             \n",
            "  inflating: reli/55.jpg             \n",
            "  inflating: reli/56.jpg             \n",
            "  inflating: reli/57.jpg             \n",
            "  inflating: reli/58.jpg             \n",
            "  inflating: reli/59.jpg             \n",
            "  inflating: reli/6.jpg              \n",
            "  inflating: reli/60.jpg             \n",
            "  inflating: reli/61.jpg             \n",
            "  inflating: reli/62.jpg             \n",
            "  inflating: reli/63.jpg             \n",
            "  inflating: reli/64.jpg             \n",
            "  inflating: reli/65.jpg             \n",
            "  inflating: reli/66.jpg             \n",
            "  inflating: reli/67.jpg             \n",
            "  inflating: reli/68.jpg             \n",
            "  inflating: reli/69.jpg             \n",
            "  inflating: reli/7.jpg              \n",
            "  inflating: reli/70.jpg             \n",
            "  inflating: reli/71.jpg             \n",
            "  inflating: reli/72.jpg             \n",
            "  inflating: reli/73.jpg             \n",
            "  inflating: reli/74.jpg             \n",
            "  inflating: reli/75.jpg             \n",
            "  inflating: reli/76.jpg             \n",
            "  inflating: reli/77.jpg             \n",
            "  inflating: reli/78.jpg             \n",
            "  inflating: reli/79.jpg             \n",
            "  inflating: reli/8.jpg              \n",
            "  inflating: reli/80.jpg             \n",
            "  inflating: reli/81.jpg             \n",
            "  inflating: reli/82.jpg             \n",
            "  inflating: reli/83.jpg             \n",
            "  inflating: reli/84.jpg             \n",
            "  inflating: reli/85.jpg             \n",
            "  inflating: reli/86.jpg             \n",
            "  inflating: reli/87.jpg             \n",
            "  inflating: reli/88.jpg             \n",
            "  inflating: reli/89.jpg             \n",
            "  inflating: reli/9.jpg              \n",
            "  inflating: reli/90.jpg             \n",
            "  inflating: reli/91.jpg             \n",
            "  inflating: reli/92.jpg             \n",
            "  inflating: reli/93.jpg             \n",
            "  inflating: reli/94.jpg             \n",
            "  inflating: reli/95.jpg             \n",
            "  inflating: reli/96.jpg             \n",
            "  inflating: reli/97.jpg             \n",
            "  inflating: reli/98.jpg             \n",
            "  inflating: reli/99.jpg             \n"
          ],
          "name": "stdout"
        }
      ]
    },
    {
      "cell_type": "code",
      "metadata": {
        "id": "dhsjuC78JTj5",
        "colab_type": "code",
        "outputId": "2e000ba5-d867-4bb7-96c4-89191fb9ba26",
        "colab": {
          "base_uri": "https://localhost:8080/",
          "height": 52
        }
      },
      "source": [
        "from keras.preprocessing.image import ImageDataGenerator\n",
        "\n",
        "train_data_dir = '/content/face/train/'\n",
        "validation_data_dir = '/content/face/validation/'\n",
        "\n",
        "# Let's use some data augmentaiton \n",
        "train_datagen = ImageDataGenerator(\n",
        "      rescale=1./255,\n",
        "      rotation_range=45,\n",
        "      width_shift_range=0.3,\n",
        "      height_shift_range=0.3,\n",
        "      horizontal_flip=True,\n",
        "      fill_mode='nearest')\n",
        " \n",
        "validation_datagen = ImageDataGenerator(rescale=1./255)\n",
        " \n",
        "# set our batch size (typically on most mid tier systems we'll use 16-32)\n",
        "batch_size = 64\n",
        " \n",
        "train_generator = train_datagen.flow_from_directory(\n",
        "        train_data_dir,\n",
        "        target_size=(img_rows, img_cols),\n",
        "        batch_size=batch_size,\n",
        "        class_mode='categorical')\n",
        " \n",
        "validation_generator = validation_datagen.flow_from_directory(\n",
        "        validation_data_dir,\n",
        "        target_size=(img_rows, img_cols),\n",
        "        batch_size=batch_size,\n",
        "        class_mode='categorical')"
      ],
      "execution_count": 6,
      "outputs": [
        {
          "output_type": "stream",
          "text": [
            "Found 0 images belonging to 0 classes.\n",
            "Found 0 images belonging to 0 classes.\n"
          ],
          "name": "stdout"
        }
      ]
    },
    {
      "cell_type": "markdown",
      "metadata": {
        "id": "VcMant1VJTkA",
        "colab_type": "text"
      },
      "source": [
        "### Training out Model\n",
        "- Note we're using checkpointing and early stopping"
      ]
    },
    {
      "cell_type": "code",
      "metadata": {
        "id": "Xs6IwpG4JTkB",
        "colab_type": "code",
        "outputId": "73785597-a107-4781-d52a-f879c63cd16b",
        "colab": {
          "base_uri": "https://localhost:8080/",
          "height": 35
        }
      },
      "source": [
        "from keras.optimizers import RMSprop\n",
        "from keras.callbacks import ModelCheckpoint, EarlyStopping\n",
        "\n",
        "                     \n",
        "checkpoint = ModelCheckpoint(\"facer.h5\",\n",
        "                             monitor=\"val_loss\",\n",
        "                             mode=\"min\",\n",
        "                             save_best_only = True,\n",
        "                             verbose=1)\n",
        "\n",
        "earlystop = EarlyStopping(monitor = 'val_loss', \n",
        "                          min_delta = 0, \n",
        "                          patience = 3,\n",
        "                          verbose = 1,\n",
        "                          restore_best_weights = True)\n",
        "\n",
        "# we put our call backs into a callback list\n",
        "callbacks = [earlystop, checkpoint]\n",
        "\n",
        "# We use a very small learning rate \n",
        "model.compile(loss = 'categorical_crossentropy',\n",
        "              optimizer = RMSprop(lr = 0.001),\n",
        "              metrics = ['accuracy'])\n",
        "\n",
        "# Enter the number of training and validation samples here\n",
        "nb_train_samples = 544\n",
        "nb_validation_samples = 200\n",
        "\n",
        "# We only train 5 EPOCHS \n",
        "epochs = 10\n",
        "batch_size = 64\n",
        "\n",
        "history = model.fit_generator(\n",
        "    train_generator,\n",
        "    steps_per_epoch = nb_train_samples // batch_size,\n",
        "    epochs = epochs,\n",
        "    callbacks = callbacks,\n",
        "    validation_data = validation_generator,\n",
        "    validation_steps = nb_validation_samples // batch_size)"
      ],
      "execution_count": 0,
      "outputs": [
        {
          "output_type": "stream",
          "text": [
            "Epoch 1/10\n"
          ],
          "name": "stdout"
        }
      ]
    },
    {
      "cell_type": "markdown",
      "metadata": {
        "id": "RrzWUbp1JTkI",
        "colab_type": "text"
      },
      "source": [
        "### Loading our classifer\n"
      ]
    },
    {
      "cell_type": "code",
      "metadata": {
        "id": "Gl2_GCY0JTkJ",
        "colab_type": "code",
        "colab": {}
      },
      "source": [
        "from keras.models import load_model\n",
        "\n",
        "classifier = load_model('facer.h5')"
      ],
      "execution_count": 0,
      "outputs": []
    },
    {
      "cell_type": "markdown",
      "metadata": {
        "id": "6fQpaBaCJTkS",
        "colab_type": "text"
      },
      "source": [
        "### Testing our classifer on some test images"
      ]
    },
    {
      "cell_type": "code",
      "metadata": {
        "scrolled": true,
        "id": "vGk1ZzWgJTkT",
        "colab_type": "code",
        "outputId": "2463779d-1b2b-4dd2-d3c0-5c3d237c38a5",
        "colab": {}
      },
      "source": [
        "import os\n",
        "import cv2\n",
        "import numpy as np\n",
        "from os import listdir\n",
        "from os.path import isfile, join\n",
        "\n",
        "monkey_breeds_dict = {\"[0]\": \"Sangsaptak\"}\n",
        "\n",
        "monkey_breeds_dict_n = {\"sangsaptak\": \"Sangsaptak\"}\n",
        "\n",
        "def draw_test(name, pred, im):\n",
        "    monkey = monkey_breeds_dict[str(pred)]\n",
        "    BLACK = [0,0,0]\n",
        "    expanded_image = cv2.copyMakeBorder(im, 80, 0, 0, 100 ,cv2.BORDER_CONSTANT,value=BLACK)\n",
        "    cv2.putText(expanded_image, monkey, (20, 60) , cv2.FONT_HERSHEY_SIMPLEX,1, (0,0,255), 2)\n",
        "    cv2.imshow(name, expanded_image)\n",
        "\n",
        "def getRandomImage(path):\n",
        "    \"\"\"function loads a random images from a random folder in our test path \"\"\"\n",
        "    folders = list(filter(lambda x: os.path.isdir(os.path.join(path, x)), os.listdir(path)))\n",
        "    random_directory = np.random.randint(0,len(folders))\n",
        "    path_class = folders[random_directory]\n",
        "    print(\"Class - \" + monkey_breeds_dict_n[str(path_class)])\n",
        "    file_path = path + path_class\n",
        "    file_names = [f for f in listdir(file_path) if isfile(join(file_path, f))]\n",
        "    random_file_index = np.random.randint(0,len(file_names))\n",
        "    image_name = file_names[random_file_index]\n",
        "    return cv2.imread(file_path+\"/\"+image_name)    \n",
        "\n",
        "for i in range(0,10):\n",
        "    input_im = getRandomImage(\"face//validation//\")\n",
        "    input_original = input_im.copy()\n",
        "    input_original = cv2.resize(input_original, None, fx=0.5, fy=0.5, interpolation = cv2.INTER_LINEAR)\n",
        "    \n",
        "    input_im = cv2.resize(input_im, (224, 224), interpolation = cv2.INTER_LINEAR)\n",
        "    input_im = input_im / 255.\n",
        "    input_im = input_im.reshape(1,224,224,3) \n",
        "    \n",
        "    # Get Prediction\n",
        "    res = np.argmax(classifier.predict(input_im, 1, verbose = 0), axis=1)\n",
        "    \n",
        "    # Show image with predicted class\n",
        "    draw_test(\"Prediction\", res, input_original) \n",
        "    cv2.waitKey(0)\n",
        "\n",
        "cv2.destroyAllWindows()"
      ],
      "execution_count": 0,
      "outputs": [
        {
          "output_type": "stream",
          "text": [
            "Class - Rajnish\n",
            "Class - Jagruti\n",
            "Class - Jagruti\n",
            "Class - Jagruti\n",
            "Class - Rajnish\n",
            "Class - Rajnish\n",
            "Class - Jagruti\n",
            "Class - Jagruti\n",
            "Class - Jagruti\n",
            "Class - Jagruti\n"
          ],
          "name": "stdout"
        }
      ]
    },
    {
      "cell_type": "code",
      "metadata": {
        "id": "O1uRwby3JTka",
        "colab_type": "code",
        "colab": {}
      },
      "source": [
        ""
      ],
      "execution_count": 0,
      "outputs": []
    },
    {
      "cell_type": "code",
      "metadata": {
        "id": "4yUl3LhXJTkg",
        "colab_type": "code",
        "colab": {}
      },
      "source": [
        ""
      ],
      "execution_count": 0,
      "outputs": []
    },
    {
      "cell_type": "code",
      "metadata": {
        "id": "hXmJ8P9SJTkr",
        "colab_type": "code",
        "colab": {}
      },
      "source": [
        ""
      ],
      "execution_count": 0,
      "outputs": []
    }
  ]
}